{
 "cells": [
  {
   "cell_type": "code",
   "execution_count": 25,
   "metadata": {},
   "outputs": [
    {
     "name": "stdout",
     "output_type": "stream",
     "text": [
      "       System  Code Classification\n",
      "0  Hybrid SMT    -1      Ambiguity\n",
      "1  Hybrid SMT    -1      Ambiguity\n",
      "2  Hybrid SMT    -1      Ambiguity\n",
      "3  Hybrid SMT    -1      Ambiguity\n",
      "4  Hybrid SMT    -1      Ambiguity\n"
     ]
    }
   ],
   "source": [
    "import numpy as np\n",
    "import matplotlib.pyplot as plt\n",
    "from matplotlib import rc\n",
    "import pandas as pd\n",
    "import csv\n",
    "import seaborn as sns\n",
    "\n",
    "#import data from excel\n",
    "df = pd.read_csv('DOAN_2020-08-11_Sentences.csv', encoding = \"ISO-8859-1\")\n",
    "results_df = pd.DataFrame(df, columns = ['System', 'Code', 'Classification'])\n",
    "\n",
    "print(results_df.head(5))"
   ]
  },
  {
   "cell_type": "code",
   "execution_count": 26,
   "metadata": {},
   "outputs": [
    {
     "name": "stdout",
     "output_type": "stream",
     "text": [
      "{'DeepL': 80, 'Google': 73, 'RNN': 50, 'Attention': 47, 'Hybrid SMT': 43, 'CNN': 26}\n"
     ]
    }
   ],
   "source": [
    "#create df with correct sentences only\n",
    "correct_df = results_df[(results_df['Code'].isin (['1'])) & (results_df['System'].isin(['Hybrid SMT', 'CNN', 'RNN', 'Attention', 'Google', 'DeepL']))]\n",
    "\n",
    "#count number of correct sentences in each system\n",
    "counts = correct_df['System'].value_counts().to_dict()\n",
    "print(counts)"
   ]
  },
  {
   "cell_type": "code",
   "execution_count": 27,
   "metadata": {},
   "outputs": [
    {
     "name": "stdout",
     "output_type": "stream",
     "text": [
      "{'Ambiguity': 227, 'Anaphora': 53, 'Scope': 33, 'Homographs': 6}\n"
     ]
    }
   ],
   "source": [
    "#count number of correct sentences per difficulty category\n",
    "classification_count = correct_df['Classification'].value_counts().to_dict()\n",
    "print(classification_count)"
   ]
  },
  {
   "cell_type": "code",
   "execution_count": 28,
   "metadata": {},
   "outputs": [
    {
     "name": "stdout",
     "output_type": "stream",
     "text": [
      "{'Ambiguity': 23, 'Anaphora': 11, 'Scope': 7, 'Homographs': 2}\n"
     ]
    }
   ],
   "source": [
    "#Count breakdown for Portage\n",
    "Portage_breakdown = correct_df[(correct_df['System']=='Hybrid SMT')]                          \n",
    "Portage_breakdown = Portage_breakdown['Classification'].value_counts().to_dict()\n",
    "\n",
    "print(Portage_breakdown)"
   ]
  },
  {
   "cell_type": "code",
   "execution_count": 29,
   "metadata": {},
   "outputs": [
    {
     "name": "stdout",
     "output_type": "stream",
     "text": [
      "{'Ambiguity': 21, 'Anaphora': 3, 'Scope': 2}\n"
     ]
    }
   ],
   "source": [
    "#Count breakdown for CNN\n",
    "CNN_breakdown = correct_df[(correct_df['System']=='CNN')]                          \n",
    "CNN_breakdown = CNN_breakdown['Classification'].value_counts().to_dict()\n",
    "\n",
    "print(CNN_breakdown)"
   ]
  },
  {
   "cell_type": "code",
   "execution_count": 30,
   "metadata": {},
   "outputs": [
    {
     "name": "stdout",
     "output_type": "stream",
     "text": [
      "{'Ambiguity': 37, 'Anaphora': 9, 'Scope': 3, 'Homographs': 1}\n"
     ]
    }
   ],
   "source": [
    "#Count breakdown for RNN\n",
    "RNN_breakdown = correct_df[(correct_df['System']=='RNN')]                          \n",
    "RNN_breakdown = RNN_breakdown['Classification'].value_counts().to_dict()\n",
    "\n",
    "print(RNN_breakdown)"
   ]
  },
  {
   "cell_type": "code",
   "execution_count": 31,
   "metadata": {},
   "outputs": [
    {
     "name": "stdout",
     "output_type": "stream",
     "text": [
      "{'Ambiguity': 40, 'Anaphora': 4, 'Scope': 3}\n"
     ]
    }
   ],
   "source": [
    "#Count breakdown for Attention\n",
    "Attention_breakdown = correct_df[(correct_df['System']=='Attention')]                          \n",
    "Attention_breakdown = Attention_breakdown['Classification'].value_counts().to_dict()\n",
    "\n",
    "print(Attention_breakdown)"
   ]
  },
  {
   "cell_type": "code",
   "execution_count": 32,
   "metadata": {},
   "outputs": [
    {
     "name": "stdout",
     "output_type": "stream",
     "text": [
      "{'Ambiguity': 52, 'Anaphora': 13, 'Scope': 8}\n"
     ]
    }
   ],
   "source": [
    "#Count breakdown for Google\n",
    "Google_breakdown = correct_df[(correct_df['System']=='Google')]                          \n",
    "Google_breakdown = Google_breakdown['Classification'].value_counts().to_dict()\n",
    "\n",
    "print(Google_breakdown)"
   ]
  },
  {
   "cell_type": "code",
   "execution_count": 33,
   "metadata": {},
   "outputs": [
    {
     "name": "stdout",
     "output_type": "stream",
     "text": [
      "{'Ambiguity': 54, 'Anaphora': 13, 'Scope': 10, 'Homographs': 3}\n"
     ]
    }
   ],
   "source": [
    "#Count breakdown for DeepL\n",
    "DeepL_breakdown = correct_df[(correct_df['System']=='DeepL')]                          \n",
    "DeepL_breakdown = DeepL_breakdown['Classification'].value_counts().to_dict()\n",
    "\n",
    "print(DeepL_breakdown)"
   ]
  },
  {
   "cell_type": "code",
   "execution_count": 34,
   "metadata": {},
   "outputs": [
    {
     "name": "stdout",
     "output_type": "stream",
     "text": [
      "            Hybrid SMT  CNN  RNN  Attention  Google  DeepL\n",
      "Ambiguity           23   21   37         40      52     54\n",
      "Anaphora            11    3    9          4      13     13\n",
      "Homographs           2    0    1          0       0      3\n",
      "Scope                7    2    3          3       8     10\n"
     ]
    }
   ],
   "source": [
    "#create df with breakdown count per system\n",
    "breakdown_count = {'Hybrid SMT': Portage_breakdown,\n",
    "                  'CNN': CNN_breakdown,\n",
    "                  'RNN': RNN_breakdown,\n",
    "                  'Attention': Attention_breakdown,\n",
    "                  'Google': Google_breakdown,\n",
    "                  'DeepL': DeepL_breakdown}\n",
    "\n",
    "breakdown_df = pd.DataFrame(breakdown_count)\n",
    "pd.set_option('precision', 0)\n",
    "\n",
    "print(breakdown_df.fillna(0))"
   ]
  },
  {
   "cell_type": "code",
   "execution_count": 35,
   "metadata": {},
   "outputs": [
    {
     "name": "stdout",
     "output_type": "stream",
     "text": [
      "            Ambiguity  Anaphora  Homographs  Scope\n",
      "Hybrid SMT         23        11           2      7\n",
      "CNN                21         3           0      2\n",
      "RNN                37         9           1      3\n",
      "Attention          40         4           0      3\n",
      "Google             52        13           0      8\n",
      "DeepL              54        13           3     10\n"
     ]
    }
   ],
   "source": [
    "#transpose df\n",
    "classification_results = breakdown_df.T\n",
    "classification_results = pd.DataFrame(classification_results)\n",
    "\n",
    "print(classification_results.fillna(0))"
   ]
  },
  {
   "cell_type": "code",
   "execution_count": 39,
   "metadata": {},
   "outputs": [
    {
     "data": {
      "text/plain": [
       "Text(0, 0.5, 'Number of correct translations')"
      ]
     },
     "execution_count": 39,
     "metadata": {},
     "output_type": "execute_result"
    },
    {
     "data": {
      "image/png": "[encoded data removed]",
      "text/plain": [
       "<Figure size 576x936 with 1 Axes>"
      ]
     },
     "metadata": {},
     "output_type": "display_data"
    }
   ],
   "source": [
    "#create stacked barplot for correct translations\n",
    "sns.set_style(\"whitegrid\")\n",
    "\n",
    "classification_results.plot(kind=\"bar\", stacked=True, figsize=(8,13)).legend(\n",
    "    loc='upper center', ncol=4, fontsize=12)\n",
    "plt.title(\"Correct translations per system\", fontsize=24)\n",
    "plt.xlabel(\"Systems\", fontsize=20)\n",
    "plt.ylabel(\"Number of correct translations\", fontsize=20)"
   ]
  },
  {
   "cell_type": "code",
   "execution_count": null,
   "metadata": {},
   "outputs": [],
   "source": []
  }
 ],
 "metadata": {
  "kernelspec": {
   "display_name": "Python 3",
   "language": "python",
   "name": "python3"
  },
  "language_info": {
   "codemirror_mode": {
    "name": "ipython",
    "version": 3
   },
   "file_extension": ".py",
   "mimetype": "text/x-python",
   "name": "python",
   "nbconvert_exporter": "python",
   "pygments_lexer": "ipython3",
   "version": "3.7.3"
  }
 },
 "nbformat": 4,
 "nbformat_minor": 4
}
